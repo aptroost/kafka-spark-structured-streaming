{
 "cells": [
  {
   "cell_type": "code",
   "execution_count": 25,
   "id": "compound-greek",
   "metadata": {},
   "outputs": [],
   "source": [
    "# !pip install findspark\n",
    "import findspark\n",
    "findspark.init() \n",
    "\n",
    "from pyspark.sql.session import SparkSession\n",
    "from pyspark.sql.functions import explode, split, col, from_json, window\n",
    "from pyspark.sql.types import StructType, StructField, StringType, IntegerType, BooleanType, TimestampType\n",
    "import kafka\n",
    "\n",
    "from time import sleep\n",
    "\n",
    "import os\n",
    "os.environ['PYSPARK_SUBMIT_ARGS'] = '--packages org.apache.spark:spark-streaming-kafka-0-10_2.12:3.1.1,org.apache.spark:spark-sql-kafka-0-10_2.12:3.1.1 pyspark-shell'\n",
    "\n",
    "os.environ['PYSPARK_PYTHON']='/Users/aptroost/.pyenv/versions/3.6.13/bin/python'\n",
    "os.environ['PYSPARK_DRIVER_PYTHON']='/Users/aptroost/.pyenv/versions/3.6.13/bin/python'\n",
    "\n",
    "os.environ['SPARK_HOME']='/usr/local/Cellar/apache-spark/3.1.1/libexec'\n",
    "os.environ['PYTHONPATH']='/usr/local/Cellar/apache-spark/3.1.1/libexec/python'\n"
   ]
  },
  {
   "cell_type": "code",
   "execution_count": 26,
   "id": "metropolitan-retro",
   "metadata": {},
   "outputs": [],
   "source": [
    "# Start session with Spark\n",
    "spark = SparkSession \\\n",
    "    .builder \\\n",
    "    .config('spark.jars.packages', 'org.apache.spark:spark-sql-kafka-0-10_2.12:3.1.1')\\\n",
    "    .appName(\"routeData\") \\\n",
    "    .getOrCreate()"
   ]
  },
  {
   "cell_type": "code",
   "execution_count": 27,
   "id": "heavy-rubber",
   "metadata": {},
   "outputs": [],
   "source": [
    "# Read the data from kafka\n",
    "df = spark \\\n",
    "    .readStream \\\n",
    "    .format(\"kafka\") \\\n",
    "    .option(\"kafka.bootstrap.servers\", \"localhost:9092\") \\\n",
    "    .option(\"subscribe\", \"routes_data\") \\\n",
    "    .option(\"startingOffsets\", \"earliest\") \\\n",
    "    .load()"
   ]
  },
  {
   "cell_type": "code",
   "execution_count": 28,
   "id": "crude-portrait",
   "metadata": {},
   "outputs": [
    {
     "name": "stdout",
     "output_type": "stream",
     "text": [
      "root\n",
      " |-- key: binary (nullable = true)\n",
      " |-- value: binary (nullable = true)\n",
      " |-- topic: string (nullable = true)\n",
      " |-- partition: integer (nullable = true)\n",
      " |-- offset: long (nullable = true)\n",
      " |-- timestamp: timestamp (nullable = true)\n",
      " |-- timestampType: integer (nullable = true)\n",
      "\n"
     ]
    }
   ],
   "source": [
    "# Print out the dataframa schema\n",
    "df.printSchema()"
   ]
  },
  {
   "cell_type": "code",
   "execution_count": 29,
   "id": "finite-spine",
   "metadata": {},
   "outputs": [],
   "source": [
    "# Convert the datatype for value to a string\n",
    "string_df = df.selectExpr(\"CAST(value AS STRING)\")"
   ]
  },
  {
   "cell_type": "code",
   "execution_count": 30,
   "id": "secret-idaho",
   "metadata": {},
   "outputs": [
    {
     "name": "stdout",
     "output_type": "stream",
     "text": [
      "root\n",
      " |-- value: string (nullable = true)\n",
      "\n"
     ]
    }
   ],
   "source": [
    "# Print out the new dataframa schema\n",
    "string_df.printSchema()"
   ]
  },
  {
   "cell_type": "code",
   "execution_count": 31,
   "id": "optional-turkey",
   "metadata": {},
   "outputs": [],
   "source": [
    "# Create a schema for the df\n",
    "schema = StructType([\n",
    "    StructField(\"id\", StringType()),\n",
    "    StructField(\"datetime\", TimestampType()),\n",
    "    StructField(\"airline\", StringType()),\n",
    "    StructField(\"airline_id\", IntegerType()),\n",
    "    StructField(\"source_airport\", StringType()),\n",
    "    StructField(\"source_airport_id\", IntegerType()),\n",
    "    StructField(\"destination_airport\", StringType()),\n",
    "    StructField(\"destination_airport_id\", IntegerType()),\n",
    "    StructField(\"codeshare\", BooleanType()),\n",
    "    StructField(\"stops\", IntegerType()),\n",
    "    StructField(\"equipment\", StringType())\n",
    "])"
   ]
  },
  {
   "cell_type": "code",
   "execution_count": 32,
   "id": "noted-scene",
   "metadata": {},
   "outputs": [],
   "source": [
    "# Select the data present in the column value and apply the schema on it\n",
    "json_df = string_df \\\n",
    "    .withColumn(\"jsonData\", \n",
    "                from_json(col(\"value\"), \n",
    "                          schema)) \\\n",
    "    .select(\"jsondata.*\")"
   ]
  },
  {
   "cell_type": "code",
   "execution_count": 33,
   "id": "foster-personality",
   "metadata": {},
   "outputs": [
    {
     "name": "stdout",
     "output_type": "stream",
     "text": [
      "root\n",
      " |-- id: string (nullable = true)\n",
      " |-- datetime: timestamp (nullable = true)\n",
      " |-- airline: string (nullable = true)\n",
      " |-- airline_id: integer (nullable = true)\n",
      " |-- source_airport: string (nullable = true)\n",
      " |-- source_airport_id: integer (nullable = true)\n",
      " |-- destination_airport: string (nullable = true)\n",
      " |-- destination_airport_id: integer (nullable = true)\n",
      " |-- codeshare: boolean (nullable = true)\n",
      " |-- stops: integer (nullable = true)\n",
      " |-- equipment: string (nullable = true)\n",
      "\n"
     ]
    }
   ],
   "source": [
    "# # Print out the dataframa schema\n",
    "json_df.printSchema()"
   ]
  },
  {
   "cell_type": "code",
   "execution_count": 138,
   "id": "subject-impact",
   "metadata": {},
   "outputs": [],
   "source": [
    "def run_query(q, name, outputMode, outputFormat):\n",
    "    from IPython.display import display, clear_output\n",
    "    import pyspark.sql.functions as F\n",
    "    import pyspark.sql.types as T\n",
    "    import uuid\n",
    "    from pyspark.sql.functions import desc\n",
    "\n",
    "    unique_query_name = str(uuid.uuid4()).replace('-','')\n",
    "    query = q \\\n",
    "        .writeStream \\\n",
    "        .outputMode(outputMode) \\\n",
    "        .format(outputFormat) \\\n",
    "        .queryName(unique_query_name) \\\n",
    "        .start()\n",
    "\n",
    "    while True:\n",
    "        sleep(1)\n",
    "        clear_output(wait=True)\n",
    "        display(query.status)\n",
    "\n",
    "        spark_query = spark.sql('SELECT * FROM ' + unique_query_name)    \n",
    "        df_pandas = spark_query.toPandas()\n",
    "        df_pandas.to_csv(name + '.csv', index=False)\n",
    "        \n",
    "        if len(df_pandas.index) > 0: \n",
    "            return df_pandas"
   ]
  },
  {
   "cell_type": "code",
   "execution_count": 139,
   "id": "elder-advantage",
   "metadata": {},
   "outputs": [
    {
     "data": {
      "text/plain": [
       "{'message': 'Getting offsets from KafkaV2[Subscribe[routes_data]]',\n",
       " 'isDataAvailable': False,\n",
       " 'isTriggerActive': True}"
      ]
     },
     "metadata": {},
     "output_type": "display_data"
    },
    {
     "data": {
      "text/html": [
       "<div>\n",
       "<style scoped>\n",
       "    .dataframe tbody tr th:only-of-type {\n",
       "        vertical-align: middle;\n",
       "    }\n",
       "\n",
       "    .dataframe tbody tr th {\n",
       "        vertical-align: top;\n",
       "    }\n",
       "\n",
       "    .dataframe thead th {\n",
       "        text-align: right;\n",
       "    }\n",
       "</style>\n",
       "<table border=\"1\" class=\"dataframe\">\n",
       "  <thead>\n",
       "    <tr style=\"text-align: right;\">\n",
       "      <th></th>\n",
       "      <th>id</th>\n",
       "      <th>datetime</th>\n",
       "      <th>airline</th>\n",
       "      <th>airline_id</th>\n",
       "      <th>source_airport</th>\n",
       "      <th>source_airport_id</th>\n",
       "      <th>destination_airport</th>\n",
       "      <th>destination_airport_id</th>\n",
       "      <th>codeshare</th>\n",
       "      <th>stops</th>\n",
       "      <th>equipment</th>\n",
       "    </tr>\n",
       "  </thead>\n",
       "  <tbody>\n",
       "    <tr>\n",
       "      <th>0</th>\n",
       "      <td>38cd7668-cf94-4f81-90ea-58890fcc4665</td>\n",
       "      <td>2021-05-02 13:39:11.629770</td>\n",
       "      <td>2B</td>\n",
       "      <td>410</td>\n",
       "      <td>AER</td>\n",
       "      <td>2965</td>\n",
       "      <td>KZN</td>\n",
       "      <td>2990</td>\n",
       "      <td>False</td>\n",
       "      <td>0</td>\n",
       "      <td>CR2</td>\n",
       "    </tr>\n",
       "    <tr>\n",
       "      <th>1</th>\n",
       "      <td>786f4614-26ca-48c3-ac10-9ccf1d4619de</td>\n",
       "      <td>2021-05-02 13:39:11.688416</td>\n",
       "      <td>2B</td>\n",
       "      <td>410</td>\n",
       "      <td>ASF</td>\n",
       "      <td>2966</td>\n",
       "      <td>KZN</td>\n",
       "      <td>2990</td>\n",
       "      <td>False</td>\n",
       "      <td>0</td>\n",
       "      <td>CR2</td>\n",
       "    </tr>\n",
       "    <tr>\n",
       "      <th>2</th>\n",
       "      <td>712760c7-ff18-4f2d-ac1a-367af194e890</td>\n",
       "      <td>2021-05-02 13:39:11.689681</td>\n",
       "      <td>2B</td>\n",
       "      <td>410</td>\n",
       "      <td>ASF</td>\n",
       "      <td>2966</td>\n",
       "      <td>MRV</td>\n",
       "      <td>2962</td>\n",
       "      <td>False</td>\n",
       "      <td>0</td>\n",
       "      <td>CR2</td>\n",
       "    </tr>\n",
       "    <tr>\n",
       "      <th>3</th>\n",
       "      <td>f6f20a5b-5786-4482-80ea-37f812a3b952</td>\n",
       "      <td>2021-05-02 13:39:11.691060</td>\n",
       "      <td>2B</td>\n",
       "      <td>410</td>\n",
       "      <td>CEK</td>\n",
       "      <td>2968</td>\n",
       "      <td>KZN</td>\n",
       "      <td>2990</td>\n",
       "      <td>False</td>\n",
       "      <td>0</td>\n",
       "      <td>CR2</td>\n",
       "    </tr>\n",
       "    <tr>\n",
       "      <th>4</th>\n",
       "      <td>84e3e872-0f31-49ec-ad07-715291e1b0f8</td>\n",
       "      <td>2021-05-02 13:39:11.691636</td>\n",
       "      <td>2B</td>\n",
       "      <td>410</td>\n",
       "      <td>CEK</td>\n",
       "      <td>2968</td>\n",
       "      <td>OVB</td>\n",
       "      <td>4078</td>\n",
       "      <td>False</td>\n",
       "      <td>0</td>\n",
       "      <td>CR2</td>\n",
       "    </tr>\n",
       "    <tr>\n",
       "      <th>...</th>\n",
       "      <td>...</td>\n",
       "      <td>...</td>\n",
       "      <td>...</td>\n",
       "      <td>...</td>\n",
       "      <td>...</td>\n",
       "      <td>...</td>\n",
       "      <td>...</td>\n",
       "      <td>...</td>\n",
       "      <td>...</td>\n",
       "      <td>...</td>\n",
       "      <td>...</td>\n",
       "    </tr>\n",
       "    <tr>\n",
       "      <th>133525</th>\n",
       "      <td>3b03e32f-e284-4d47-8a5d-ffeb532a0cec</td>\n",
       "      <td>2021-05-02 13:53:46.017126</td>\n",
       "      <td>ZL</td>\n",
       "      <td>4178</td>\n",
       "      <td>WYA</td>\n",
       "      <td>6334</td>\n",
       "      <td>ADL</td>\n",
       "      <td>3341</td>\n",
       "      <td>False</td>\n",
       "      <td>0</td>\n",
       "      <td>SF3</td>\n",
       "    </tr>\n",
       "    <tr>\n",
       "      <th>133526</th>\n",
       "      <td>232f6875-a1ea-4a5a-8a72-3884249846dd</td>\n",
       "      <td>2021-05-02 13:53:46.017438</td>\n",
       "      <td>ZM</td>\n",
       "      <td>19016</td>\n",
       "      <td>DME</td>\n",
       "      <td>4029</td>\n",
       "      <td>FRU</td>\n",
       "      <td>2912</td>\n",
       "      <td>False</td>\n",
       "      <td>0</td>\n",
       "      <td>734</td>\n",
       "    </tr>\n",
       "    <tr>\n",
       "      <th>133527</th>\n",
       "      <td>3f42bc6c-231f-4f11-ada2-818f80e2af04</td>\n",
       "      <td>2021-05-02 13:53:46.017748</td>\n",
       "      <td>ZM</td>\n",
       "      <td>19016</td>\n",
       "      <td>FRU</td>\n",
       "      <td>2912</td>\n",
       "      <td>DME</td>\n",
       "      <td>4029</td>\n",
       "      <td>False</td>\n",
       "      <td>0</td>\n",
       "      <td>734</td>\n",
       "    </tr>\n",
       "    <tr>\n",
       "      <th>133528</th>\n",
       "      <td>c9c6cfaa-b3f7-4001-aafe-6eca9a7d6d22</td>\n",
       "      <td>2021-05-02 13:53:46.018306</td>\n",
       "      <td>ZM</td>\n",
       "      <td>19016</td>\n",
       "      <td>FRU</td>\n",
       "      <td>2912</td>\n",
       "      <td>OSS</td>\n",
       "      <td>2913</td>\n",
       "      <td>False</td>\n",
       "      <td>0</td>\n",
       "      <td>734</td>\n",
       "    </tr>\n",
       "    <tr>\n",
       "      <th>133529</th>\n",
       "      <td>0b25a53d-cadf-4c3b-8fa4-a722f69449e1</td>\n",
       "      <td>2021-05-02 13:53:46.018733</td>\n",
       "      <td>ZM</td>\n",
       "      <td>19016</td>\n",
       "      <td>OSS</td>\n",
       "      <td>2913</td>\n",
       "      <td>FRU</td>\n",
       "      <td>2912</td>\n",
       "      <td>False</td>\n",
       "      <td>0</td>\n",
       "      <td>734</td>\n",
       "    </tr>\n",
       "  </tbody>\n",
       "</table>\n",
       "<p>133530 rows × 11 columns</p>\n",
       "</div>"
      ],
      "text/plain": [
       "                                          id                   datetime  \\\n",
       "0       38cd7668-cf94-4f81-90ea-58890fcc4665 2021-05-02 13:39:11.629770   \n",
       "1       786f4614-26ca-48c3-ac10-9ccf1d4619de 2021-05-02 13:39:11.688416   \n",
       "2       712760c7-ff18-4f2d-ac1a-367af194e890 2021-05-02 13:39:11.689681   \n",
       "3       f6f20a5b-5786-4482-80ea-37f812a3b952 2021-05-02 13:39:11.691060   \n",
       "4       84e3e872-0f31-49ec-ad07-715291e1b0f8 2021-05-02 13:39:11.691636   \n",
       "...                                      ...                        ...   \n",
       "133525  3b03e32f-e284-4d47-8a5d-ffeb532a0cec 2021-05-02 13:53:46.017126   \n",
       "133526  232f6875-a1ea-4a5a-8a72-3884249846dd 2021-05-02 13:53:46.017438   \n",
       "133527  3f42bc6c-231f-4f11-ada2-818f80e2af04 2021-05-02 13:53:46.017748   \n",
       "133528  c9c6cfaa-b3f7-4001-aafe-6eca9a7d6d22 2021-05-02 13:53:46.018306   \n",
       "133529  0b25a53d-cadf-4c3b-8fa4-a722f69449e1 2021-05-02 13:53:46.018733   \n",
       "\n",
       "       airline  airline_id source_airport  source_airport_id  \\\n",
       "0           2B         410            AER               2965   \n",
       "1           2B         410            ASF               2966   \n",
       "2           2B         410            ASF               2966   \n",
       "3           2B         410            CEK               2968   \n",
       "4           2B         410            CEK               2968   \n",
       "...        ...         ...            ...                ...   \n",
       "133525      ZL        4178            WYA               6334   \n",
       "133526      ZM       19016            DME               4029   \n",
       "133527      ZM       19016            FRU               2912   \n",
       "133528      ZM       19016            FRU               2912   \n",
       "133529      ZM       19016            OSS               2913   \n",
       "\n",
       "       destination_airport  destination_airport_id  codeshare  stops equipment  \n",
       "0                      KZN                    2990      False      0       CR2  \n",
       "1                      KZN                    2990      False      0       CR2  \n",
       "2                      MRV                    2962      False      0       CR2  \n",
       "3                      KZN                    2990      False      0       CR2  \n",
       "4                      OVB                    4078      False      0       CR2  \n",
       "...                    ...                     ...        ...    ...       ...  \n",
       "133525                 ADL                    3341      False      0       SF3  \n",
       "133526                 FRU                    2912      False      0       734  \n",
       "133527                 DME                    4029      False      0       734  \n",
       "133528                 OSS                    2913      False      0       734  \n",
       "133529                 FRU                    2912      False      0       734  \n",
       "\n",
       "[133530 rows x 11 columns]"
      ]
     },
     "metadata": {},
     "output_type": "display_data"
    }
   ],
   "source": [
    "q = json_df.select(\"*\")\n",
    "\n",
    "display(run_query(q, \"dump_table\", \"update\", \"memory\"))"
   ]
  },
  {
   "cell_type": "code",
   "execution_count": 140,
   "id": "modified-calculation",
   "metadata": {},
   "outputs": [
    {
     "data": {
      "text/plain": [
       "{'message': 'Waiting for data to arrive',\n",
       " 'isDataAvailable': False,\n",
       " 'isTriggerActive': False}"
      ]
     },
     "metadata": {},
     "output_type": "display_data"
    },
    {
     "data": {
      "text/html": [
       "<div>\n",
       "<style scoped>\n",
       "    .dataframe tbody tr th:only-of-type {\n",
       "        vertical-align: middle;\n",
       "    }\n",
       "\n",
       "    .dataframe tbody tr th {\n",
       "        vertical-align: top;\n",
       "    }\n",
       "\n",
       "    .dataframe thead th {\n",
       "        text-align: right;\n",
       "    }\n",
       "</style>\n",
       "<table border=\"1\" class=\"dataframe\">\n",
       "  <thead>\n",
       "    <tr style=\"text-align: right;\">\n",
       "      <th></th>\n",
       "      <th>source_airport</th>\n",
       "      <th>count</th>\n",
       "    </tr>\n",
       "  </thead>\n",
       "  <tbody>\n",
       "    <tr>\n",
       "      <th>0</th>\n",
       "      <td>ATL</td>\n",
       "      <td>1830</td>\n",
       "    </tr>\n",
       "    <tr>\n",
       "      <th>1</th>\n",
       "      <td>ORD</td>\n",
       "      <td>1116</td>\n",
       "    </tr>\n",
       "    <tr>\n",
       "      <th>2</th>\n",
       "      <td>PEK</td>\n",
       "      <td>1070</td>\n",
       "    </tr>\n",
       "    <tr>\n",
       "      <th>3</th>\n",
       "      <td>LHR</td>\n",
       "      <td>1050</td>\n",
       "    </tr>\n",
       "    <tr>\n",
       "      <th>4</th>\n",
       "      <td>CDG</td>\n",
       "      <td>1048</td>\n",
       "    </tr>\n",
       "    <tr>\n",
       "      <th>5</th>\n",
       "      <td>FRA</td>\n",
       "      <td>994</td>\n",
       "    </tr>\n",
       "    <tr>\n",
       "      <th>6</th>\n",
       "      <td>LAX</td>\n",
       "      <td>984</td>\n",
       "    </tr>\n",
       "    <tr>\n",
       "      <th>7</th>\n",
       "      <td>DFW</td>\n",
       "      <td>938</td>\n",
       "    </tr>\n",
       "    <tr>\n",
       "      <th>8</th>\n",
       "      <td>JFK</td>\n",
       "      <td>912</td>\n",
       "    </tr>\n",
       "    <tr>\n",
       "      <th>9</th>\n",
       "      <td>AMS</td>\n",
       "      <td>906</td>\n",
       "    </tr>\n",
       "  </tbody>\n",
       "</table>\n",
       "</div>"
      ],
      "text/plain": [
       "  source_airport  count\n",
       "0            ATL   1830\n",
       "1            ORD   1116\n",
       "2            PEK   1070\n",
       "3            LHR   1050\n",
       "4            CDG   1048\n",
       "5            FRA    994\n",
       "6            LAX    984\n",
       "7            DFW    938\n",
       "8            JFK    912\n",
       "9            AMS    906"
      ]
     },
     "metadata": {},
     "output_type": "display_data"
    }
   ],
   "source": [
    "q = json_df.select(\"*\")\\\n",
    "        .groupBy(\n",
    "            json_df.source_airport\n",
    "        )\\\n",
    "        .count()\\\n",
    "        .orderBy(\n",
    "            col('count').desc()\n",
    "        )\\\n",
    "        .limit(10)\n",
    "\n",
    "display(run_query(q, \"top10_source_airport\", \"complete\", \"memory\"))"
   ]
  },
  {
   "cell_type": "code",
   "execution_count": 143,
   "id": "loose-productivity",
   "metadata": {},
   "outputs": [
    {
     "data": {
      "text/plain": [
       "{'message': 'Waiting for data to arrive',\n",
       " 'isDataAvailable': False,\n",
       " 'isTriggerActive': False}"
      ]
     },
     "metadata": {},
     "output_type": "display_data"
    },
    {
     "data": {
      "text/plain": [
       "0    (2021-05-02 13:39:30, 2021-05-02 13:40:00)\n",
       "1    (2021-05-02 13:39:30, 2021-05-02 13:40:00)\n",
       "2    (2021-05-02 13:40:00, 2021-05-02 13:40:30)\n",
       "3    (2021-05-02 13:52:00, 2021-05-02 13:52:30)\n",
       "4    (2021-05-02 13:52:30, 2021-05-02 13:53:00)\n",
       "5    (2021-05-02 13:39:00, 2021-05-02 13:39:30)\n",
       "6    (2021-05-02 13:52:30, 2021-05-02 13:53:00)\n",
       "7    (2021-05-02 13:53:00, 2021-05-02 13:53:30)\n",
       "8    (2021-05-02 13:51:30, 2021-05-02 13:52:00)\n",
       "9    (2021-05-02 13:53:30, 2021-05-02 13:54:00)\n",
       "Name: window, dtype: object"
      ]
     },
     "execution_count": 143,
     "metadata": {},
     "output_type": "execute_result"
    }
   ],
   "source": [
    "q = json_df.select(\"*\")\\\n",
    "        .groupBy(\n",
    "            window(\n",
    "                json_df.datetime, \n",
    "                \"30 seconds\", \n",
    "                \"30 seconds\"),\n",
    "            json_df.equipment\n",
    "        )\\\n",
    "        .count()\\\n",
    "        .orderBy(\n",
    "            col('count').desc(), \n",
    "            col('equipment').desc()\n",
    "        )\\\n",
    "        .limit(10)\n",
    "\n",
    "df_pandas = run_query(q, \"top10_equipment_30min_window\", \"complete\", \"memory\")\n",
    "for idx, row in df_pandas.iterrows():\n",
    "    df_pandas.at[idx, 'start'] = row['window'][0]\n",
    "    df_pandas.at[idx, 'end'] = row['window'][1]\n",
    "df_pandas.pop(\"window\")\n",
    "df_pandas['start'] = df_pandas['start'].dt.strftime('%Y-%m-%d %H:%M:%S')\n",
    "df_pandas['end'] = df_pandas['end'].dt.strftime('%Y-%m-%d %H:%M:%S')"
   ]
  },
  {
   "cell_type": "code",
   "execution_count": 155,
   "id": "third-consequence",
   "metadata": {},
   "outputs": [
    {
     "data": {
      "text/plain": [
       "'[{\"equipment\":\"738\",\"count\":4338,\"start\":\"2021-05-02 13:39:30\",\"end\":\"2021-05-02 13:40:00\"},{\"equipment\":\"320\",\"count\":3763,\"start\":\"2021-05-02 13:39:30\",\"end\":\"2021-05-02 13:40:00\"},{\"equipment\":\"320\",\"count\":3054,\"start\":\"2021-05-02 13:40:00\",\"end\":\"2021-05-02 13:40:30\"},{\"equipment\":\"738\",\"count\":2748,\"start\":\"2021-05-02 13:52:00\",\"end\":\"2021-05-02 13:52:30\"},{\"equipment\":\"320\",\"count\":2694,\"start\":\"2021-05-02 13:52:30\",\"end\":\"2021-05-02 13:53:00\"},{\"equipment\":\"320\",\"count\":2298,\"start\":\"2021-05-02 13:39:00\",\"end\":\"2021-05-02 13:39:30\"},{\"equipment\":\"738\",\"count\":2105,\"start\":\"2021-05-02 13:52:30\",\"end\":\"2021-05-02 13:53:00\"},{\"equipment\":\"320\",\"count\":1799,\"start\":\"2021-05-02 13:53:00\",\"end\":\"2021-05-02 13:53:30\"},{\"equipment\":\"320\",\"count\":1555,\"start\":\"2021-05-02 13:51:30\",\"end\":\"2021-05-02 13:52:00\"},{\"equipment\":\"320\",\"count\":1546,\"start\":\"2021-05-02 13:53:30\",\"end\":\"2021-05-02 13:54:00\"}]'"
      ]
     },
     "execution_count": 155,
     "metadata": {},
     "output_type": "execute_result"
    }
   ],
   "source": [
    "df_pandas.to_json(orient='records')"
   ]
  },
  {
   "cell_type": "code",
   "execution_count": null,
   "id": "fleet-failure",
   "metadata": {},
   "outputs": [],
   "source": []
  },
  {
   "cell_type": "code",
   "execution_count": null,
   "id": "amino-tours",
   "metadata": {},
   "outputs": [],
   "source": []
  },
  {
   "cell_type": "code",
   "execution_count": null,
   "id": "thick-field",
   "metadata": {},
   "outputs": [],
   "source": []
  },
  {
   "cell_type": "code",
   "execution_count": null,
   "id": "warming-richmond",
   "metadata": {},
   "outputs": [],
   "source": []
  },
  {
   "cell_type": "code",
   "execution_count": null,
   "id": "composed-chocolate",
   "metadata": {},
   "outputs": [],
   "source": []
  },
  {
   "cell_type": "code",
   "execution_count": null,
   "id": "union-sense",
   "metadata": {},
   "outputs": [],
   "source": []
  },
  {
   "cell_type": "code",
   "execution_count": null,
   "id": "vertical-pontiac",
   "metadata": {},
   "outputs": [],
   "source": []
  }
 ],
 "metadata": {
  "kernelspec": {
   "display_name": "3613",
   "language": "python",
   "name": "3613"
  },
  "language_info": {
   "codemirror_mode": {
    "name": "ipython",
    "version": 3
   },
   "file_extension": ".py",
   "mimetype": "text/x-python",
   "name": "python",
   "nbconvert_exporter": "python",
   "pygments_lexer": "ipython3",
   "version": "3.6.13"
  },
  "varInspector": {
   "cols": {
    "lenName": 16,
    "lenType": 16,
    "lenVar": 40
   },
   "kernels_config": {
    "python": {
     "delete_cmd_postfix": "",
     "delete_cmd_prefix": "del ",
     "library": "var_list.py",
     "varRefreshCmd": "print(var_dic_list())"
    },
    "r": {
     "delete_cmd_postfix": ") ",
     "delete_cmd_prefix": "rm(",
     "library": "var_list.r",
     "varRefreshCmd": "cat(var_dic_list()) "
    }
   },
   "types_to_exclude": [
    "module",
    "function",
    "builtin_function_or_method",
    "instance",
    "_Feature"
   ],
   "window_display": false
  }
 },
 "nbformat": 4,
 "nbformat_minor": 5
}